{
 "cells": [
  {
   "cell_type": "code",
   "execution_count": 1,
   "id": "73b191b8",
   "metadata": {},
   "outputs": [
    {
     "name": "stdout",
     "output_type": "stream",
     "text": [
      "[1, 2, 3]\n",
      "[4, 5, 6]\n",
      "[7, 8, 9]\n"
     ]
    }
   ],
   "source": [
    "print([1,2,3])\n",
    "print([4,5,6])\n",
    "print([7,8,9])"
   ]
  },
  {
   "cell_type": "code",
   "execution_count": 2,
   "id": "de190ad2",
   "metadata": {},
   "outputs": [],
   "source": [
    "def display(row1,row2,row3):\n",
    "    print(row1)\n",
    "    print(row2)\n",
    "    print(row3)"
   ]
  },
  {
   "cell_type": "code",
   "execution_count": 3,
   "id": "9989e8a7",
   "metadata": {},
   "outputs": [
    {
     "name": "stdout",
     "output_type": "stream",
     "text": [
      "[' ', ' ', ' ']\n",
      "[' ', ' ', ' ']\n",
      "[' ', ' ', ' ']\n"
     ]
    }
   ],
   "source": [
    "row1= [' ',' ',' ']\n",
    "row2 =[' ',' ',' ']\n",
    "row3 =[' ',' ',' ']\n",
    "\n",
    "display(row1,row2,row3)"
   ]
  },
  {
   "cell_type": "code",
   "execution_count": 4,
   "id": "ecca7556",
   "metadata": {},
   "outputs": [],
   "source": [
    "row1[0] = 'x'\n",
    "row2[1] ='x'\n",
    "row3[2] = 'x'"
   ]
  },
  {
   "cell_type": "code",
   "execution_count": 5,
   "id": "105e6ce4",
   "metadata": {},
   "outputs": [
    {
     "name": "stdout",
     "output_type": "stream",
     "text": [
      "['x', ' ', ' ']\n",
      "[' ', 'x', ' ']\n",
      "[' ', ' ', 'x']\n"
     ]
    }
   ],
   "source": [
    "display(row1,row2,row3)"
   ]
  },
  {
   "cell_type": "code",
   "execution_count": 6,
   "id": "d1fca5a3",
   "metadata": {},
   "outputs": [
    {
     "name": "stdout",
     "output_type": "stream",
     "text": [
      "Please enter a number here: 2\n"
     ]
    },
    {
     "data": {
      "text/plain": [
       "'2'"
      ]
     },
     "execution_count": 6,
     "metadata": {},
     "output_type": "execute_result"
    }
   ],
   "source": [
    "input(\"Please enter a number here: \")"
   ]
  },
  {
   "cell_type": "code",
   "execution_count": 7,
   "id": "0e07e58b",
   "metadata": {},
   "outputs": [
    {
     "name": "stdout",
     "output_type": "stream",
     "text": [
      "Please enter a number here: 1\n"
     ]
    }
   ],
   "source": [
    "result= input(\"Please enter a number here: \")"
   ]
  },
  {
   "cell_type": "code",
   "execution_count": 8,
   "id": "8a31e12f",
   "metadata": {},
   "outputs": [
    {
     "data": {
      "text/plain": [
       "str"
      ]
     },
     "execution_count": 8,
     "metadata": {},
     "output_type": "execute_result"
    }
   ],
   "source": [
    "type(result)"
   ]
  },
  {
   "cell_type": "code",
   "execution_count": 9,
   "id": "cc1f29a6",
   "metadata": {},
   "outputs": [
    {
     "name": "stdout",
     "output_type": "stream",
     "text": [
      "Enter value: 1\n"
     ]
    }
   ],
   "source": [
    "result = input(\"Enter value: \")"
   ]
  },
  {
   "cell_type": "code",
   "execution_count": 10,
   "id": "a69102e4",
   "metadata": {},
   "outputs": [],
   "source": [
    "result_as_int= int(result)"
   ]
  },
  {
   "cell_type": "code",
   "execution_count": 11,
   "id": "d08a8021",
   "metadata": {},
   "outputs": [
    {
     "data": {
      "text/plain": [
       "str"
      ]
     },
     "execution_count": 11,
     "metadata": {},
     "output_type": "execute_result"
    }
   ],
   "source": [
    "type(result)"
   ]
  },
  {
   "cell_type": "code",
   "execution_count": 12,
   "id": "fbd90bfc",
   "metadata": {},
   "outputs": [
    {
     "data": {
      "text/plain": [
       "int"
      ]
     },
     "execution_count": 12,
     "metadata": {},
     "output_type": "execute_result"
    }
   ],
   "source": [
    "type(result_as_int)"
   ]
  },
  {
   "cell_type": "code",
   "execution_count": 13,
   "id": "0fba180e",
   "metadata": {},
   "outputs": [
    {
     "name": "stdout",
     "output_type": "stream",
     "text": [
      "Choose an index position: 1\n"
     ]
    }
   ],
   "source": [
    "position_index = int(input(\"Choose an index position: \"))"
   ]
  },
  {
   "cell_type": "code",
   "execution_count": 14,
   "id": "aa5c6296",
   "metadata": {},
   "outputs": [
    {
     "data": {
      "text/plain": [
       "'x'"
      ]
     },
     "execution_count": 14,
     "metadata": {},
     "output_type": "execute_result"
    }
   ],
   "source": [
    "row2[position_index]"
   ]
  },
  {
   "cell_type": "code",
   "execution_count": 15,
   "id": "c92d79f3",
   "metadata": {},
   "outputs": [
    {
     "name": "stdout",
     "output_type": "stream",
     "text": [
      "['x', ' ', ' ']\n",
      "[' ', 'x', ' ']\n",
      "[' ', ' ', 'x']\n"
     ]
    }
   ],
   "source": [
    "print(row1)\n",
    "print(row2)\n",
    "print(row3)"
   ]
  },
  {
   "cell_type": "code",
   "execution_count": 16,
   "id": "6c80cfca",
   "metadata": {},
   "outputs": [],
   "source": [
    "def user_choice():\n",
    "    \n",
    "    choice = input(\"Please enter a number (0-10): \")\n",
    "    \n",
    "    return int(choice)"
   ]
  },
  {
   "cell_type": "code",
   "execution_count": 17,
   "id": "ceb64292",
   "metadata": {},
   "outputs": [
    {
     "name": "stdout",
     "output_type": "stream",
     "text": [
      "Please enter a number (0-10): 1\n"
     ]
    },
    {
     "data": {
      "text/plain": [
       "1"
      ]
     },
     "execution_count": 17,
     "metadata": {},
     "output_type": "execute_result"
    }
   ],
   "source": [
    "user_choice()"
   ]
  },
  {
   "cell_type": "code",
   "execution_count": 18,
   "id": "b6da1b24",
   "metadata": {},
   "outputs": [
    {
     "name": "stdout",
     "output_type": "stream",
     "text": [
      "Please enter a number (0-10): 1\n"
     ]
    },
    {
     "data": {
      "text/plain": [
       "1"
      ]
     },
     "execution_count": 18,
     "metadata": {},
     "output_type": "execute_result"
    }
   ],
   "source": [
    "user_choice()"
   ]
  },
  {
   "cell_type": "code",
   "execution_count": 19,
   "id": "35592725",
   "metadata": {},
   "outputs": [],
   "source": [
    "result = \"WRONG VALUE\""
   ]
  },
  {
   "cell_type": "code",
   "execution_count": 20,
   "id": "c3ca99d1",
   "metadata": {},
   "outputs": [],
   "source": [
    "accepatable_values= [0,1,2,3,4,5,6,7,8,9]"
   ]
  },
  {
   "cell_type": "code",
   "execution_count": 21,
   "id": "c826d3cc",
   "metadata": {},
   "outputs": [],
   "source": [
    "def user_choice():\n",
    "    #variables\n",
    "    \n",
    "    #Initial choice\n",
    "    choice= \"NOT A NUMBER\"\n",
    "    acceptable_range= range(0,10)\n",
    "    within_range= False\n",
    "    \n",
    "    #Two conditions to check\n",
    "    #Check if the digit or within_range == false\n",
    "    while choice.isdigit() == False: or within_range==False:\n",
    "        \n",
    "        choice = input(\"Please enter a number (0-10): \")\n",
    "    \n",
    "    #Digit check\n",
    "        if choice.isdigit()==False:\n",
    "            print(\"That's ... not a number!\")\n",
    "            \n",
    "        \n",
    "        \n",
    "     #Range check   \n",
    "        if choice.isdigit() ==True:\n",
    "            if int(choice) in acceptable_range:\n",
    "                within_range = True\n",
    "            else:\n",
    "    ##could just say 'PASS' or:\n",
    "                within_range= False\n",
    "        \n",
    "            print(\"That is not within range of 0-10\")\n",
    "    \n",
    "    return int(choice)"
   ]
  },
  {
   "cell_type": "code",
   "execution_count": 23,
   "id": "f60bfd52",
   "metadata": {},
   "outputs": [
    {
     "name": "stdout",
     "output_type": "stream",
     "text": [
      "Please enter a number (0-10): two\n",
      "That's a word...not a number!\n",
      "Please enter a number (0-10): 100\n",
      "That is not within range of 0-10\n",
      "Please enter a number (0-10): 5\n",
      "That is not within range of 0-10\n"
     ]
    },
    {
     "data": {
      "text/plain": [
       "5"
      ]
     },
     "execution_count": 23,
     "metadata": {},
     "output_type": "execute_result"
    }
   ],
   "source": [
    "user_choice()"
   ]
  },
  {
   "cell_type": "code",
   "execution_count": null,
   "id": "57ba55e0",
   "metadata": {},
   "outputs": [],
   "source": []
  },
  {
   "cell_type": "code",
   "execution_count": null,
   "id": "b70d39db",
   "metadata": {},
   "outputs": [],
   "source": []
  },
  {
   "cell_type": "code",
   "execution_count": null,
   "id": "aab57042",
   "metadata": {},
   "outputs": [],
   "source": []
  },
  {
   "cell_type": "code",
   "execution_count": null,
   "id": "ec02030d",
   "metadata": {},
   "outputs": [],
   "source": []
  },
  {
   "cell_type": "code",
   "execution_count": null,
   "id": "f0165a39",
   "metadata": {},
   "outputs": [],
   "source": []
  },
  {
   "cell_type": "code",
   "execution_count": null,
   "id": "d75639c6",
   "metadata": {},
   "outputs": [],
   "source": []
  },
  {
   "cell_type": "code",
   "execution_count": 1,
   "id": "b21ae299",
   "metadata": {},
   "outputs": [],
   "source": [
    "game_list = ['HIT ME','STAY','DOUBLE DOWN']"
   ]
  },
  {
   "cell_type": "code",
   "execution_count": 2,
   "id": "c473cc24",
   "metadata": {},
   "outputs": [],
   "source": [
    "def display_game(game_list):\n",
    "    print(\"Here is the current list: \")\n",
    "    print(game_list)"
   ]
  },
  {
   "cell_type": "code",
   "execution_count": 3,
   "id": "5576f247",
   "metadata": {},
   "outputs": [
    {
     "name": "stdout",
     "output_type": "stream",
     "text": [
      "Here is the current list: \n",
      "[0, 1, 2]\n"
     ]
    }
   ],
   "source": [
    "display_game(game_list)"
   ]
  },
  {
   "cell_type": "code",
   "execution_count": 4,
   "id": "dc32272c",
   "metadata": {},
   "outputs": [],
   "source": [
    "def position_choice():\n",
    "    \n",
    "    choice = 'wrong'\n",
    "    \n",
    "    while choice not in ['0','1','2']:\n",
    "        \n",
    "        choice= input(\"Pick a position (0,1,2): \")\n",
    "        \n",
    "        if choice not in ['0','1','2']:\n",
    "            print(\"Sorry, invalid choice!\")\n",
    "            \n",
    "    return int(choice)        "
   ]
  },
  {
   "cell_type": "code",
   "execution_count": 5,
   "id": "4fe14d14",
   "metadata": {},
   "outputs": [
    {
     "name": "stdout",
     "output_type": "stream",
     "text": [
      "Pick a position (0,1,2): N\n",
      "Sorry, invalid choice!\n",
      "Pick a position (0,1,2): 0\n"
     ]
    },
    {
     "data": {
      "text/plain": [
       "0"
      ]
     },
     "execution_count": 5,
     "metadata": {},
     "output_type": "execute_result"
    }
   ],
   "source": [
    "position_choice()"
   ]
  },
  {
   "cell_type": "code",
   "execution_count": 6,
   "id": "6ddd9643",
   "metadata": {},
   "outputs": [],
   "source": [
    "def replacement_choice(game_list, position):\n",
    "    \n",
    "    user_placement= input(\"Type a string to place at position: \")\n",
    "    \n",
    "    game_list[position]= user_placement\n",
    "    \n",
    "    return game_list"
   ]
  },
  {
   "cell_type": "code",
   "execution_count": 7,
   "id": "f340140e",
   "metadata": {},
   "outputs": [
    {
     "name": "stdout",
     "output_type": "stream",
     "text": [
      "Type a string to place at position: test\n"
     ]
    },
    {
     "data": {
      "text/plain": [
       "[0, 'test', 2]"
      ]
     },
     "execution_count": 7,
     "metadata": {},
     "output_type": "execute_result"
    }
   ],
   "source": [
    "replacement_choice(game_list, 1)"
   ]
  },
  {
   "cell_type": "code",
   "execution_count": 8,
   "id": "27a25922",
   "metadata": {},
   "outputs": [],
   "source": [
    "def gameon_choice():\n",
    "    \n",
    "    choice = 'wrong'\n",
    "    \n",
    "     \n",
    "    while choice not in ['Y', 'N']:\n",
    "        \n",
    "        choice= input(\"Keep playing? (Y or N): \")\n",
    "        choice = choice.upper()\n",
    "        \n",
    "        if choice not in ['Y', 'N']:\n",
    "            print(\"Sorry, I didn't understand that. Please choose (Y or N): \")\n",
    "            \n",
    "    if choice == \"Y\":\n",
    "        return True\n",
    "    else:\n",
    "        return False\n",
    "        "
   ]
  },
  {
   "cell_type": "code",
   "execution_count": 9,
   "id": "726a3e1c",
   "metadata": {},
   "outputs": [
    {
     "name": "stdout",
     "output_type": "stream",
     "text": [
      "Keep playing? (Y or N): n\n"
     ]
    },
    {
     "data": {
      "text/plain": [
       "False"
      ]
     },
     "execution_count": 9,
     "metadata": {},
     "output_type": "execute_result"
    }
   ],
   "source": [
    "gameon_choice()"
   ]
  },
  {
   "cell_type": "code",
   "execution_count": 10,
   "id": "293ec699",
   "metadata": {},
   "outputs": [
    {
     "name": "stdout",
     "output_type": "stream",
     "text": [
      "Here is the current list: \n",
      "[0, 1, 2]\n",
      "Pick a position (0,1,2): happy\n",
      "Sorry, invalid choice!\n",
      "Pick a position (0,1,2): two\n",
      "Sorry, invalid choice!\n",
      "Pick a position (0,1,2): 1\n",
      "Type a string to place at position: my choice\n",
      "Here is the current list: \n",
      "[0, 'my choice', 2]\n",
      "Keep playing? (Y or N): y\n",
      "Here is the current list: \n",
      "[0, 'my choice', 2]\n",
      "Pick a position (0,1,2): 0\n",
      "Type a string to place at position: test\n",
      "Here is the current list: \n",
      "['test', 'my choice', 2]\n",
      "Keep playing? (Y or N): y\n",
      "Here is the current list: \n",
      "['test', 'my choice', 2]\n",
      "Pick a position (0,1,2): 2\n",
      "Type a string to place at position: happy\n",
      "Here is the current list: \n",
      "['test', 'my choice', 'happy']\n",
      "Keep playing? (Y or N): n\n"
     ]
    }
   ],
   "source": [
    "game_on = True\n",
    "game_list= [0,1,2]\n",
    "\n",
    "while game_on:\n",
    "    \n",
    "    display_game(game_list)\n",
    "    \n",
    "    position = position_choice()\n",
    "    \n",
    "    game_list = replacement_choice(game_list,position)\n",
    "    \n",
    "    display_game(game_list)\n",
    "    \n",
    "    game_on = gameon_choice()"
   ]
  },
  {
   "cell_type": "code",
   "execution_count": 8,
   "id": "1a13c95c",
   "metadata": {},
   "outputs": [
    {
     "data": {
      "text/plain": [
       "4"
      ]
     },
     "execution_count": 8,
     "metadata": {},
     "output_type": "execute_result"
    }
   ],
   "source": [
    "long = [1,2,1]\n",
    "sum(long)"
   ]
  },
  {
   "cell_type": "code",
   "execution_count": 9,
   "id": "2b19dc41",
   "metadata": {},
   "outputs": [
    {
     "name": "stdout",
     "output_type": "stream",
     "text": [
      "4\n"
     ]
    }
   ],
   "source": [
    "print(sum(long))"
   ]
  },
  {
   "cell_type": "code",
   "execution_count": null,
   "id": "f1a91ac1",
   "metadata": {},
   "outputs": [],
   "source": []
  },
  {
   "cell_type": "code",
   "execution_count": null,
   "id": "ba675d40",
   "metadata": {},
   "outputs": [],
   "source": [
    "#######      TIC       TAC     TOE     #######"
   ]
  },
  {
   "cell_type": "code",
   "execution_count": null,
   "id": "d4ecdf48",
   "metadata": {},
   "outputs": [],
   "source": []
  },
  {
   "cell_type": "code",
   "execution_count": null,
   "id": "dfd5ca7e",
   "metadata": {},
   "outputs": [],
   "source": []
  },
  {
   "cell_type": "code",
   "execution_count": 5,
   "id": "f796c107",
   "metadata": {},
   "outputs": [],
   "source": [
    "from IPython.display import clear_output\n",
    "\n",
    "def display_board(board):\n",
    "    clear_output()\n",
    "    print(board[7]+\"|\"+board[8]+\"|\"+board[9])\n",
    "    print('-|-|-')\n",
    "    print(board[4]+\"|\"+board[5]+\"|\"+board[6])\n",
    "    print('-|-|-')\n",
    "    print(board[1]+\"|\"+board[2]+\"|\"+board[3])"
   ]
  },
  {
   "cell_type": "code",
   "execution_count": 6,
   "id": "92374ee6",
   "metadata": {},
   "outputs": [
    {
     "name": "stdout",
     "output_type": "stream",
     "text": [
      " | | \n",
      "-|-|-\n",
      " | | \n",
      "-|-|-\n",
      " | | \n"
     ]
    }
   ],
   "source": [
    "test_board = [' ']*10\n",
    "display_board(test_board)"
   ]
  },
  {
   "cell_type": "code",
   "execution_count": 7,
   "id": "2defb234",
   "metadata": {},
   "outputs": [],
   "source": [
    "def player_input():\n",
    "    starting_choice= ''\n",
    "    \n",
    "    while starting_choice != 'X' and starting_choice != 'O':\n",
    "        starting_choice = input(\"Player 1, choose X or O: \")\n",
    "        starting_choice = starting_choice.upper()\n",
    "    \n",
    "    player1= starting_choice\n",
    "    starting_choice = starting_choice.upper()\n",
    "    if player1 == 'X':\n",
    "        player2 = 'O'\n",
    "    else:\n",
    "        player2 = 'X'\n",
    "    return (player1, player2)"
   ]
  },
  {
   "cell_type": "code",
   "execution_count": 8,
   "id": "f1bc565f",
   "metadata": {},
   "outputs": [
    {
     "name": "stdout",
     "output_type": "stream",
     "text": [
      "Player 1, choose X or O: x\n"
     ]
    }
   ],
   "source": [
    "player1_starting_choice , player2_starting_choice = player_input()"
   ]
  },
  {
   "cell_type": "code",
   "execution_count": 9,
   "id": "a14363a3",
   "metadata": {},
   "outputs": [
    {
     "data": {
      "text/plain": [
       "'X'"
      ]
     },
     "execution_count": 9,
     "metadata": {},
     "output_type": "execute_result"
    }
   ],
   "source": [
    "player1_starting_choice"
   ]
  },
  {
   "cell_type": "code",
   "execution_count": 10,
   "id": "7df3ab71",
   "metadata": {},
   "outputs": [
    {
     "data": {
      "text/plain": [
       "'O'"
      ]
     },
     "execution_count": 10,
     "metadata": {},
     "output_type": "execute_result"
    }
   ],
   "source": [
    "player2_starting_choice"
   ]
  },
  {
   "cell_type": "code",
   "execution_count": 12,
   "id": "15f2b74f",
   "metadata": {},
   "outputs": [],
   "source": [
    "def final_score(board, starting_choice):\n",
    "    mark = starting_choice\n",
    "    \n",
    "    return ((board[1]==board[2]==board[3]==mark) or\n",
    "    (board[4]==board[5]==board[6]==mark) or\n",
    "    (board[7]==board[8]==board[9]==mark) or\n",
    "    (board[1]==board[5]==board[9]==mark) or\n",
    "    (board[3]==board[5]==board[7]==mark) or\n",
    "    (board[1]==board[4]==board[7]==mark) or\n",
    "    (board[2]==board[5]==board[8]==mark) or\n",
    "    (board[3]==board[6]==board[9]==mark))\n",
    "    \n",
    "    "
   ]
  },
  {
   "cell_type": "code",
   "execution_count": null,
   "id": "01408f72",
   "metadata": {},
   "outputs": [],
   "source": []
  }
 ],
 "metadata": {
  "kernelspec": {
   "display_name": "Python 3",
   "language": "python",
   "name": "python3"
  },
  "language_info": {
   "codemirror_mode": {
    "name": "ipython",
    "version": 3
   },
   "file_extension": ".py",
   "mimetype": "text/x-python",
   "name": "python",
   "nbconvert_exporter": "python",
   "pygments_lexer": "ipython3",
   "version": "3.8.8"
  }
 },
 "nbformat": 4,
 "nbformat_minor": 5
}
